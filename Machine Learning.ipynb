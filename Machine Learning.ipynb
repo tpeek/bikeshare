{
 "cells": [
  {
   "cell_type": "markdown",
   "metadata": {},
   "source": [
    "#Getting data in and formatting"
   ]
  },
  {
   "cell_type": "code",
   "execution_count": null,
   "metadata": {
    "collapsed": true
   },
   "outputs": [],
   "source": []
  },
  {
   "cell_type": "code",
   "execution_count": 16,
   "metadata": {
    "collapsed": true
   },
   "outputs": [],
   "source": [
    "import numpy as np\n",
    "import pandas as pd\n",
    "from pandas import Series, DataFrame\n",
    "import datetime\n",
    "import matplotlib.pyplot as plt\n",
    "%matplotlib inline\n",
    "stations = pd.read_table('stations.tsv')\n",
    "usage = pd.read_table('usage_2012.tsv')\n",
    "weather = pd.read_table('daily_weather.tsv')\n",
    "\n",
    "\n",
    "def change_seasons():\n",
    "    weather.loc[weather[\"season_code\"] == 1, \"season_desc\"] = 'Winter'\n",
    "    weather.loc[weather[\"season_code\"] == 2, \"season_desc\"] = 'Spring'\n",
    "    weather.loc[weather[\"season_code\"] == 3, \"season_desc\"] = 'Summer'\n",
    "    weather.loc[weather[\"season_code\"] == 4, \"season_desc\"] = 'Fall'\n",
    "\n",
    "\n",
    "def convert_dates():\n",
    "    for i in weather.index:\n",
    "        weather.ix[i, 'date'] = datetime.datetime.strptime(\n",
    "            str(weather.ix[i, 'date']), \"%Y-%m-%d\").date()\n",
    "\n",
    "\n",
    "def add_months():\n",
    "    for i in weather.index:\n",
    "        weather.ix[i, 'month'] = weather.ix[i, 'date'].month\n",
    "\n",
    "\n",
    "change_seasons()\n",
    "convert_dates()\n",
    "add_months()"
   ]
  },
  {
   "cell_type": "markdown",
   "metadata": {},
   "source": [
    "#Step 1: Get User counts per day at each station"
   ]
  },
  {
   "cell_type": "code",
   "execution_count": 20,
   "metadata": {
    "collapsed": false
   },
   "outputs": [],
   "source": [
    "yr_perstation = DataFrame(usage['station_start'].value_counts())\n",
    "yr_perstation.columns = [\"yr_count\"]\n",
    "yr_perstation['day_count'] = yr_perstation['yr_count']/365\n",
    "yr_perstation['station'] = yr_perstation.index\n",
    "\n",
    "cstations = stations.merge(yr_perstation, how=\"inner\", left_on=\"station\", right_on=\"station\")\n"
   ]
  },
  {
   "cell_type": "markdown",
   "metadata": {},
   "source": [
    "#Step 2a"
   ]
  },
  {
   "cell_type": "code",
   "execution_count": 21,
   "metadata": {
    "collapsed": false
   },
   "outputs": [
    {
     "data": {
      "text/plain": [
       "LinearRegression(copy_X=True, fit_intercept=True, normalize=False)"
      ]
     },
     "execution_count": 21,
     "metadata": {},
     "output_type": "execute_result"
    }
   ],
   "source": [
    "from sklearn.linear_model import LinearRegression\n",
    "# Here we grap all variables that we expect to monotonically impact ridership; this excludes\n",
    "# geographic clustering which should be addressed by a clustering type model\n",
    "x = cstations.ix[:, 5:136]\n",
    "y = cstations.ix[:, 137]\n",
    "\n",
    "model = LinearRegression()\n",
    "model.fit(x, y)\n"
   ]
  },
  {
   "cell_type": "markdown",
   "metadata": {},
   "source": [
    "##Predict from training data"
   ]
  },
  {
   "cell_type": "code",
   "execution_count": 25,
   "metadata": {
    "collapsed": false
   },
   "outputs": [
    {
     "data": {
      "text/plain": [
       "<matplotlib.axes.AxesSubplot at 0x7f2dcd2eb350>"
      ]
     },
     "execution_count": 25,
     "metadata": {},
     "output_type": "execute_result"
    },
    {
     "data": {
      "image/png": "[encoded data removed]",
      "text/plain": [
       "<matplotlib.figure.Figure at 0x7f2db3862190>"
      ]
     },
     "metadata": {},
     "output_type": "display_data"
    }
   ],
   "source": [
    "predicted = model.predict(x)\n",
    "actual = cstations.day_count\n",
    "\n",
    "predicted = DataFrame(predicted)\n",
    "actual = DataFrame(actual)\n",
    "\n",
    "predicted.columns = ['predicted']\n",
    "actual.columns = ['actual']\n",
    "\n",
    "lindata = actual.join(predicted)\n",
    "lindata.plot(x='actual', y='predicted', kind='scatter')\n",
    "\n"
   ]
  },
  {
   "cell_type": "code",
   "execution_count": null,
   "metadata": {
    "collapsed": true
   },
   "outputs": [],
   "source": []
  }
 ],
 "metadata": {
  "kernelspec": {
   "display_name": "Python 2",
   "language": "python",
   "name": "python2"
  },
  "language_info": {
   "codemirror_mode": {
    "name": "ipython",
    "version": 2
   },
   "file_extension": ".py",
   "mimetype": "text/x-python",
   "name": "python",
   "nbconvert_exporter": "python",
   "pygments_lexer": "ipython2",
   "version": "2.7.6"
  }
 },
 "nbformat": 4,
 "nbformat_minor": 0
}
