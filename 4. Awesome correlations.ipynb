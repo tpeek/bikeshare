{
 "cells": [
  {
   "cell_type": "code",
   "execution_count": 1,
   "metadata": {
    "collapsed": true
   },
   "outputs": [],
   "source": [
    "import pandas as pd"
   ]
  },
  {
   "cell_type": "code",
   "execution_count": 2,
   "metadata": {
    "collapsed": true
   },
   "outputs": [],
   "source": [
    "data = pd.read_table('daily_weather.tsv')"
   ]
  },
  {
   "cell_type": "code",
   "execution_count": 4,
   "metadata": {
    "collapsed": false
   },
   "outputs": [],
   "source": [
    "corrs = data.corr()"
   ]
  },
  {
   "cell_type": "code",
   "execution_count": 5,
   "metadata": {
    "collapsed": false
   },
   "outputs": [
    {
     "data": {
      "text/plain": [
       "weekday             0.125130\n",
       "season_code         0.198099\n",
       "is_holiday          0.029720\n",
       "is_work_day        -0.539919\n",
       "weather_code       -0.223149\n",
       "temp                0.542253\n",
       "subjective_temp     0.543917\n",
       "humidity           -0.068902\n",
       "windspeed          -0.158371\n",
       "no_casual_riders    1.000000\n",
       "no_reg_riders       0.274984\n",
       "total_riders        0.643305\n",
       "Name: no_casual_riders, dtype: float64"
      ]
     },
     "execution_count": 5,
     "metadata": {},
     "output_type": "execute_result"
    }
   ],
   "source": [
    "corrs['no_casual_riders']"
   ]
  },
  {
   "cell_type": "code",
   "execution_count": 6,
   "metadata": {
    "collapsed": false
   },
   "outputs": [
    {
     "data": {
      "text/plain": [
       "weekday             0.129315\n",
       "season_code         0.478133\n",
       "is_holiday         -0.164190\n",
       "is_work_day         0.437003\n",
       "weather_code       -0.315485\n",
       "temp                0.607425\n",
       "subjective_temp     0.614727\n",
       "humidity           -0.074875\n",
       "windspeed          -0.265985\n",
       "no_casual_riders    0.274984\n",
       "no_reg_riders       1.000000\n",
       "total_riders        0.912994\n",
       "Name: no_reg_riders, dtype: float64"
      ]
     },
     "execution_count": 6,
     "metadata": {},
     "output_type": "execute_result"
    }
   ],
   "source": [
    "corrs['no_reg_riders']"
   ]
  },
  {
   "cell_type": "markdown",
   "metadata": {},
   "source": [
    "The most interesting out of the above is the is_work_day correlations: -.54 for casual riders and .43 for regular riders. This means less casual and more regular use the bikes on workdays vs weekends. There is no relationship between holidays and casual riders, but there is a slightly negative correlation for regular riders- likely because most are riding to work, and have that day off. Humidity never has an effect on riding. The total number of riders is much more dependent on the number of regular riders for that day than for the number of casual riders. "
   ]
  }
 ],
 "metadata": {
  "kernelspec": {
   "display_name": "Python 2",
   "language": "python",
   "name": "python2"
  },
  "language_info": {
   "codemirror_mode": {
    "name": "ipython",
    "version": 2
   },
   "file_extension": ".py",
   "mimetype": "text/x-python",
   "name": "python",
   "nbconvert_exporter": "python",
   "pygments_lexer": "ipython2",
   "version": "2.7.6"
  }
 },
 "nbformat": 4,
 "nbformat_minor": 0
}
