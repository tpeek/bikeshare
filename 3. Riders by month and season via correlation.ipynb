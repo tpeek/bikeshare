{
 "cells": [
  {
   "cell_type": "markdown",
   "metadata": {},
   "source": [
    "# How rider usage varies with temperature when binning months"
   ]
  },
  {
   "cell_type": "markdown",
   "metadata": {},
   "source": [
    "## Setting up the data"
   ]
  },
  {
   "cell_type": "code",
   "execution_count": 15,
   "metadata": {
    "collapsed": false
   },
   "outputs": [],
   "source": [
    "import numpy as np\n",
    "import pandas as pd\n",
    "import datetime\n",
    "from pandas import Series, DataFrame\n",
    "stations = pd.read_table('stations.tsv')\n",
    "usage = pd.read_table('usage_2012.tsv')\n",
    "weather = pd.read_table('daily_weather.tsv')\n",
    "\n",
    "def change_seasons():\n",
    "    weather.loc[weather[\"season_code\"] == 1, \"season_desc\"] = 'Winter'\n",
    "    weather.loc[weather[\"season_code\"] == 2, \"season_desc\"] = 'Spring'\n",
    "    weather.loc[weather[\"season_code\"] == 3, \"season_desc\"] = 'Summer'\n",
    "    weather.loc[weather[\"season_code\"] == 4, \"season_desc\"] = 'Fall'\n",
    "\n",
    "\n",
    "def convert_dates():\n",
    "    for i in weather.index:\n",
    "        weather.ix[i, 'date'] = datetime.datetime.strptime(\n",
    "            str(weather.ix[i, 'date']), \"%Y-%m-%d\").date()\n",
    "\n",
    "\n",
    "def add_months():\n",
    "    for i in weather.index:\n",
    "        weather.ix[i, 'month'] = weather.ix[i, 'date'].month\n",
    "        \n",
    "\n",
    "change_seasons()\n",
    "convert_dates()\n",
    "add_months()"
   ]
  },
  {
   "cell_type": "markdown",
   "metadata": {},
   "source": [
    "## Getting the data into groupby objects and getting a correlation table"
   ]
  },
  {
   "cell_type": "code",
   "execution_count": 23,
   "metadata": {
    "collapsed": false
   },
   "outputs": [
    {
     "name": "stdout",
     "output_type": "stream",
     "text": [
      "                       subjective_temp  total_riders\n",
      "month                                               \n",
      "1     subjective_temp         1.000000      0.692407\n",
      "      total_riders            0.692407      1.000000\n",
      "2     subjective_temp         1.000000      0.733898\n",
      "      total_riders            0.733898      1.000000\n",
      "3     subjective_temp         1.000000      0.728631\n",
      "      total_riders            0.728631      1.000000\n",
      "4     subjective_temp         1.000000      0.551594\n",
      "      total_riders            0.551594      1.000000\n",
      "5     subjective_temp         1.000000      0.064179\n",
      "      total_riders            0.064179      1.000000\n",
      "6     subjective_temp         1.000000     -0.339782\n",
      "      total_riders           -0.339782      1.000000\n",
      "7     subjective_temp         1.000000     -0.224447\n",
      "      total_riders           -0.224447      1.000000\n",
      "8     subjective_temp         1.000000      0.045404\n",
      "      total_riders            0.045404      1.000000\n",
      "9     subjective_temp         1.000000     -0.351309\n",
      "      total_riders           -0.351309      1.000000\n",
      "10    subjective_temp         1.000000      0.498876\n",
      "      total_riders            0.498876      1.000000\n",
      "11    subjective_temp         1.000000      0.535224\n",
      "      total_riders            0.535224      1.000000\n",
      "12    subjective_temp         1.000000      0.718123\n",
      "      total_riders            0.718123      1.000000\n",
      "\n",
      "[24 rows x 2 columns]\n"
     ]
    }
   ],
   "source": [
    "months = weather[['month', 'subjective_temp', 'total_riders']].groupby('month')\n",
    "corrdf = months.corr()\n",
    "\n",
    "# Doing some NA val cleanup\n",
    "del corrdf['month']\n",
    "corrdf = corrdf.dropna()\n",
    "\n",
    "# And now done\n",
    "print corrdf"
   ]
  },
  {
   "cell_type": "markdown",
   "metadata": {},
   "source": [
    "## Comments on above\n",
    "As we can see from the correlations, ridership goes up with temperature in the winter and goes down with increasing temperature in the summer. Riders do not seem to appreciate especially cold or hot temperatures, except for the month of May, when riders seem to not be especially encouraged or discouraged by temperature.\n",
    "\n",
    "##This is further illustrated by regrouping via season"
   ]
  },
  {
   "cell_type": "code",
   "execution_count": 29,
   "metadata": {
    "collapsed": false
   },
   "outputs": [
    {
     "name": "stdout",
     "output_type": "stream",
     "text": [
      "                             subjective_temp  total_riders\n",
      "season_desc                                               \n",
      "Fall        subjective_temp         1.000000      0.635616\n",
      "            total_riders            0.635616      1.000000\n",
      "Spring      subjective_temp         1.000000      0.435419\n",
      "            total_riders            0.435419      1.000000\n",
      "Summer      subjective_temp         1.000000     -0.282228\n",
      "            total_riders           -0.282228      1.000000\n",
      "Winter      subjective_temp         1.000000      0.812550\n",
      "            total_riders            0.812550      1.000000\n",
      "\n",
      "[8 rows x 2 columns]\n"
     ]
    }
   ],
   "source": [
    "seasons = weather[['season_desc', 'subjective_temp', 'total_riders']].groupby('season_desc')\n",
    "corrdf = seasons.corr()\n",
    "\n",
    "# Doing some NA val cleanup\n",
    "# del corrdf['season_desc']\n",
    "corrdf = corrdf.dropna()\n",
    "\n",
    "# And now done\n",
    "print corrdf"
   ]
  },
  {
   "cell_type": "code",
   "execution_count": null,
   "metadata": {
    "collapsed": true
   },
   "outputs": [],
   "source": []
  }
 ],
 "metadata": {
  "kernelspec": {
   "display_name": "Python 2",
   "language": "python",
   "name": "python2"
  },
  "language_info": {
   "codemirror_mode": {
    "name": "ipython",
    "version": 2
   },
   "file_extension": ".py",
   "mimetype": "text/x-python",
   "name": "python",
   "nbconvert_exporter": "python",
   "pygments_lexer": "ipython2",
   "version": "2.7.6"
  }
 },
 "nbformat": 4,
 "nbformat_minor": 0
}
